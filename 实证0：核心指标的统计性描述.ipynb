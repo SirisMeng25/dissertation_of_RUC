{
 "cells": [
  {
   "cell_type": "markdown",
   "id": "baf3c1ff",
   "metadata": {},
   "source": [
    "# 统计性描述：CPI、通胀率INF、全国城镇调查失业率U"
   ]
  },
  {
   "cell_type": "code",
   "execution_count": 1,
   "id": "7e34aaac",
   "metadata": {},
   "outputs": [
    {
     "name": "stdout",
     "output_type": "stream",
     "text": [
      "              CPI          U        INF\n",
      "count   72.000000  72.000000  71.000000\n",
      "mean   101.775000   5.269444  -0.023884\n",
      "std      1.336355   0.323118   0.516369\n",
      "min     99.500000   4.800000  -1.179941\n",
      "25%    100.875000   5.000000  -0.293686\n",
      "50%    101.850000   5.200000   0.000000\n",
      "75%    102.500000   5.500000   0.198928\n",
      "max    105.400000   6.200000   1.379310\n"
     ]
    }
   ],
   "source": [
    "import pandas as pd\n",
    "\n",
    "# Read the Excel file\n",
    "df = pd.read_excel('/Users/macbookairm1/Desktop/1-DATA.xlsx', parse_dates=['date'])\n",
    "\n",
    "# Calculate CPI monthly growth rate\n",
    "df['INF'] = df['CPI'].pct_change() * 100\n",
    "\n",
    "# Statistical description\n",
    "statistics_description = df[['CPI', 'U', 'INF']].describe()\n",
    "\n",
    "# Print the result\n",
    "print(statistics_description)\n"
   ]
  },
  {
   "cell_type": "code",
   "execution_count": null,
   "id": "ed4ce307",
   "metadata": {},
   "outputs": [],
   "source": []
  }
 ],
 "metadata": {
  "kernelspec": {
   "display_name": "Python 3 (ipykernel)",
   "language": "python",
   "name": "python3"
  },
  "language_info": {
   "codemirror_mode": {
    "name": "ipython",
    "version": 3
   },
   "file_extension": ".py",
   "mimetype": "text/x-python",
   "name": "python",
   "nbconvert_exporter": "python",
   "pygments_lexer": "ipython3",
   "version": "3.11.5"
  }
 },
 "nbformat": 4,
 "nbformat_minor": 5
}
